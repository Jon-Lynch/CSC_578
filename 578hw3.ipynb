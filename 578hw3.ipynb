{
 "cells": [
  {
   "cell_type": "markdown",
   "metadata": {},
   "source": [
    "#### Jonathan Lynch\n",
    "#### CSC 578/Section 901\n",
    "#### Homework 3 (578hw3.ipynb)"
   ]
  },
  {
   "cell_type": "code",
   "execution_count": 1,
   "metadata": {},
   "outputs": [],
   "source": [
    "import NN578_networkI as network\n",
    "import numpy as np\n",
    "import random\n",
    "import matplotlib.pyplot as plt"
   ]
  },
  {
   "cell_type": "code",
   "execution_count": 2,
   "metadata": {},
   "outputs": [
    {
     "name": "stderr",
     "output_type": "stream",
     "text": [
      "/Users/jonathanlynch/Desktop/CSC 578/NN578_networkI.py:244: VisibleDeprecationWarning: Creating an ndarray from ragged nested sequences (which is a list-or-tuple of lists-or-tuples-or ndarrays with different lengths or shapes) is deprecated. If you meant to do this, you must specify 'dtype=object' when creating the ndarray\n",
      "  data = np.array(\n"
     ]
    }
   ],
   "source": [
    "# Load the dataset (already in the 'one-hot-vector' format for the target)\n",
    "# Call the function to load the data.\n",
    "iris_data = network.my_load_csv('iris.csv', 4, 3)"
   ]
  },
  {
   "cell_type": "markdown",
   "metadata": {},
   "source": [
    "### A) Check network definition code which includes the Modifications described in Part 2 of HW3:"
   ]
  },
  {
   "cell_type": "markdown",
   "metadata": {},
   "source": [
    "__Train the net1 network (created from iris-423.dat) on the iris data for a maximum of 100 epochs, minibatch_size=5, eta=0.5:__"
   ]
  },
  {
   "cell_type": "code",
   "execution_count": 3,
   "metadata": {},
   "outputs": [
    {
     "name": "stdout",
     "output_type": "stream",
     "text": [
      "[Epoch 0] Training: MSE=0.33989623, CE=1.93947802, LL=1.07270335, Correct: 50/150, Acc: 0.33333333\n",
      "[Epoch 1] Training: MSE=0.35054136, CE=1.98910892, LL=1.13654524, Correct: 50/150, Acc: 0.33333333\n",
      "[Epoch 2] Training: MSE=0.33898723, CE=1.93723493, LL=1.12030613, Correct: 50/150, Acc: 0.33333333\n",
      "[Epoch 3] Training: MSE=0.30402667, CE=1.76598458, LL=0.98309968, Correct: 51/150, Acc: 0.34000000\n",
      "[Epoch 4] Training: MSE=0.27946742, CE=1.65306466, LL=0.88038172, Correct: 100/150, Acc: 0.66666667\n",
      "[Epoch 5] Training: MSE=0.25916154, CE=1.56196374, LL=0.80792403, Correct: 100/150, Acc: 0.66666667\n",
      "[Epoch 6] Training: MSE=0.24333059, CE=1.48939578, LL=0.75466382, Correct: 100/150, Acc: 0.66666667\n",
      "[Epoch 7] Training: MSE=0.23153034, CE=1.43260666, LL=0.71520737, Correct: 100/150, Acc: 0.66666667\n",
      "[Epoch 8] Training: MSE=0.22283392, CE=1.38810432, LL=0.68570972, Correct: 100/150, Acc: 0.66666667\n",
      "[Epoch 9] Training: MSE=0.21638630, CE=1.35286947, LL=0.66332470, Correct: 100/150, Acc: 0.66666667\n",
      "[Epoch 10] Training: MSE=0.21155054, CE=1.32462457, LL=0.64601912, Correct: 100/150, Acc: 0.66666667\n",
      "[Epoch 11] Training: MSE=0.20789080, CE=1.30174644, LL=0.63237556, Correct: 100/150, Acc: 0.66666667\n",
      "[Epoch 12] Training: MSE=0.20511694, CE=1.28309614, LL=0.62141506, Correct: 100/150, Acc: 0.66666667\n",
      "[Epoch 13] Training: MSE=0.20302930, CE=1.26784584, LL=0.61246681, Correct: 100/150, Acc: 0.66666667\n",
      "[Epoch 14] Training: MSE=0.20147235, CE=1.25532061, LL=0.60507322, Correct: 100/150, Acc: 0.66666667\n",
      "[Epoch 15] Training: MSE=0.20030105, CE=1.24486556, LL=0.59890049, Correct: 100/150, Acc: 0.66666667\n",
      "[Epoch 16] Training: MSE=0.19936157, CE=1.23573475, LL=0.59362044, Correct: 100/150, Acc: 0.66666667\n",
      "[Epoch 17] Training: MSE=0.19846286, CE=1.22686360, LL=0.58868507, Correct: 100/150, Acc: 0.66666667\n",
      "[Epoch 18] Training: MSE=0.19720532, CE=1.21573647, LL=0.58262039, Correct: 100/150, Acc: 0.66666667\n",
      "[Epoch 19] Training: MSE=0.19438939, CE=1.19440802, LL=0.57068463, Correct: 100/150, Acc: 0.66666667\n",
      "[Epoch 20] Training: MSE=0.19092608, CE=1.16732717, LL=0.55286608, Correct: 100/150, Acc: 0.66666667\n",
      "[Epoch 21] Training: MSE=0.19096008, CE=1.16133018, LL=0.54312471, Correct: 100/150, Acc: 0.66666667\n",
      "[Epoch 22] Training: MSE=0.19353066, CE=1.16929236, LL=0.53927297, Correct: 100/150, Acc: 0.66666667\n",
      "[Epoch 23] Training: MSE=0.19776431, CE=1.18560542, LL=0.54036904, Correct: 100/150, Acc: 0.66666667\n",
      "[Epoch 24] Training: MSE=0.20178627, CE=1.20164379, LL=0.54486505, Correct: 100/150, Acc: 0.66666667\n",
      "[Epoch 25] Training: MSE=0.20662471, CE=1.22178025, LL=0.54960066, Correct: 100/150, Acc: 0.66666667\n",
      "[Epoch 26] Training: MSE=0.21241592, CE=1.24698192, LL=0.55558579, Correct: 100/150, Acc: 0.66666667\n",
      "[Epoch 27] Training: MSE=0.22371923, CE=1.30062268, LL=0.56667376, Correct: 100/150, Acc: 0.66666667\n",
      "[Epoch 28] Training: MSE=0.24331341, CE=1.40561068, LL=0.59374334, Correct: 100/150, Acc: 0.66666667\n",
      "[Epoch 29] Training: MSE=0.24199777, CE=1.39912289, LL=0.59138124, Correct: 100/150, Acc: 0.66666667\n",
      "[Epoch 30] Training: MSE=0.23946870, CE=1.38389155, LL=0.59045876, Correct: 100/150, Acc: 0.66666667\n",
      "[Epoch 31] Training: MSE=0.23599222, CE=1.36317079, LL=0.58667198, Correct: 100/150, Acc: 0.66666667\n",
      "[Epoch 32] Training: MSE=0.23289589, CE=1.34470190, LL=0.58358964, Correct: 100/150, Acc: 0.66666667\n",
      "[Epoch 33] Training: MSE=0.23009235, CE=1.32814460, LL=0.58092824, Correct: 100/150, Acc: 0.66666667\n",
      "[Epoch 34] Training: MSE=0.22722565, CE=1.31165773, LL=0.57818266, Correct: 100/150, Acc: 0.66666667\n",
      "[Epoch 35] Training: MSE=0.22334286, CE=1.29038726, LL=0.57330663, Correct: 100/150, Acc: 0.66666667\n",
      "[Epoch 36] Training: MSE=0.22467301, CE=1.29779632, LL=0.57115706, Correct: 100/150, Acc: 0.66666667\n",
      "[Epoch 37] Training: MSE=0.22330533, CE=1.29038782, LL=0.56749807, Correct: 100/150, Acc: 0.66666667\n",
      "[Epoch 38] Training: MSE=0.22251684, CE=1.28617554, LL=0.56502888, Correct: 100/150, Acc: 0.66666667\n",
      "[Epoch 39] Training: MSE=0.22101269, CE=1.27807819, LL=0.56246911, Correct: 100/150, Acc: 0.66666667\n",
      "[Epoch 40] Training: MSE=0.21812236, CE=1.26267441, LL=0.55868410, Correct: 100/150, Acc: 0.66666667\n",
      "[Epoch 41] Training: MSE=0.20483844, CE=1.19437942, LL=0.53995532, Correct: 102/150, Acc: 0.68000000\n",
      "[Epoch 42] Training: MSE=0.20591363, CE=1.20072089, LL=0.53740017, Correct: 102/150, Acc: 0.68000000\n",
      "[Epoch 43] Training: MSE=0.20719959, CE=1.20799052, LL=0.53623096, Correct: 102/150, Acc: 0.68000000\n",
      "[Epoch 44] Training: MSE=0.20621653, CE=1.20347843, LL=0.53255753, Correct: 102/150, Acc: 0.68000000\n",
      "[Epoch 45] Training: MSE=0.21001333, CE=1.22367814, LL=0.53696177, Correct: 102/150, Acc: 0.68000000\n",
      "[Epoch 46] Training: MSE=0.19907007, CE=1.16766667, LL=0.51856894, Correct: 102/150, Acc: 0.68000000\n",
      "[Epoch 47] Training: MSE=0.21210025, CE=1.23557129, LL=0.53930003, Correct: 102/150, Acc: 0.68000000\n",
      "[Epoch 48] Training: MSE=0.18942656, CE=1.11978422, LL=0.50134001, Correct: 103/150, Acc: 0.68666667\n",
      "[Epoch 49] Training: MSE=0.20704620, CE=1.20942254, LL=0.53171872, Correct: 102/150, Acc: 0.68000000\n",
      "[Epoch 50] Training: MSE=0.20664139, CE=1.20742322, LL=0.53013769, Correct: 102/150, Acc: 0.68000000\n",
      "[Epoch 51] Training: MSE=0.20585190, CE=1.20331541, LL=0.52882492, Correct: 102/150, Acc: 0.68000000\n",
      "[Epoch 52] Training: MSE=0.20493768, CE=1.19855574, LL=0.52753879, Correct: 102/150, Acc: 0.68000000\n",
      "[Epoch 53] Training: MSE=0.20367382, CE=1.19199722, LL=0.52569989, Correct: 102/150, Acc: 0.68000000\n",
      "[Epoch 54] Training: MSE=0.20210133, CE=1.18388439, LL=0.52332046, Correct: 102/150, Acc: 0.68000000\n",
      "[Epoch 55] Training: MSE=0.20017765, CE=1.17402428, LL=0.52031668, Correct: 103/150, Acc: 0.68666667\n",
      "[Epoch 56] Training: MSE=0.19791986, CE=1.16253436, LL=0.51673089, Correct: 103/150, Acc: 0.68666667\n",
      "[Epoch 57] Training: MSE=0.19535639, CE=1.14958619, LL=0.51262232, Correct: 103/150, Acc: 0.68666667\n",
      "[Epoch 58] Training: MSE=0.19251818, CE=1.13535662, LL=0.50803700, Correct: 104/150, Acc: 0.69333333\n",
      "[Epoch 59] Training: MSE=0.18943311, CE=1.11999754, LL=0.50299692, Correct: 105/150, Acc: 0.70000000\n",
      "[Epoch 60] Training: MSE=0.18612719, CE=1.10364146, LL=0.49751024, Correct: 107/150, Acc: 0.71333333\n",
      "[Epoch 61] Training: MSE=0.18262490, CE=1.08640345, LL=0.49158036, Correct: 108/150, Acc: 0.72000000\n",
      "[Epoch 62] Training: MSE=0.17894371, CE=1.06835637, LL=0.48520180, Correct: 109/150, Acc: 0.72666667\n",
      "[Epoch 63] Training: MSE=0.17508312, CE=1.04947938, LL=0.47834243, Correct: 111/150, Acc: 0.74000000\n",
      "[Epoch 64] Training: MSE=0.17101285, CE=1.02960346, LL=0.47092162, Correct: 114/150, Acc: 0.76000000\n",
      "[Epoch 65] Training: MSE=0.16665820, CE=1.00834256, LL=0.46277877, Correct: 114/150, Acc: 0.76000000\n",
      "[Epoch 66] Training: MSE=0.16186166, CE=0.98490759, LL=0.45359032, Correct: 114/150, Acc: 0.76000000\n",
      "[Epoch 67] Training: MSE=0.15627013, CE=0.95755788, LL=0.44263095, Correct: 114/150, Acc: 0.76000000\n",
      "[Epoch 68] Training: MSE=0.14901146, CE=0.92203809, LL=0.42809508, Correct: 118/150, Acc: 0.78666667\n",
      "[Epoch 69] Training: MSE=0.13783717, CE=0.86753202, LL=0.40530680, Correct: 119/150, Acc: 0.79333333\n",
      "[Epoch 70] Training: MSE=0.11933198, CE=0.77832991, LL=0.36715043, Correct: 124/150, Acc: 0.82666667\n",
      "[Epoch 71] Training: MSE=0.10945932, CE=0.73115684, LL=0.34605900, Correct: 128/150, Acc: 0.85333333\n",
      "[Epoch 72] Training: MSE=0.11737508, CE=0.76874624, LL=0.36092694, Correct: 125/150, Acc: 0.83333333\n",
      "[Epoch 73] Training: MSE=0.10927923, CE=0.72982546, LL=0.34306783, Correct: 128/150, Acc: 0.85333333\n",
      "[Epoch 74] Training: MSE=0.11557353, CE=0.75991264, LL=0.35497794, Correct: 126/150, Acc: 0.84000000\n",
      "[Epoch 75] Training: MSE=0.10921708, CE=0.72906624, LL=0.34090312, Correct: 128/150, Acc: 0.85333333\n",
      "[Epoch 76] Training: MSE=0.11301352, CE=0.74722204, LL=0.34803226, Correct: 126/150, Acc: 0.84000000\n",
      "[Epoch 77] Training: MSE=0.10889294, CE=0.72699948, LL=0.33878593, Correct: 128/150, Acc: 0.85333333\n",
      "[Epoch 78] Training: MSE=0.10998486, CE=0.73206457, LL=0.34049768, Correct: 128/150, Acc: 0.85333333\n",
      "[Epoch 79] Training: MSE=0.10761777, CE=0.72025987, LL=0.33502264, Correct: 129/150, Acc: 0.86000000\n",
      "[Epoch 80] Training: MSE=0.10678676, CE=0.71592045, LL=0.33278789, Correct: 129/150, Acc: 0.86000000\n",
      "[Epoch 81] Training: MSE=0.10498448, CE=0.70680152, LL=0.32852193, Correct: 129/150, Acc: 0.86000000\n",
      "[Epoch 82] Training: MSE=0.10319947, CE=0.69773603, LL=0.32427520, Correct: 129/150, Acc: 0.86000000\n",
      "[Epoch 83] Training: MSE=0.10113032, CE=0.68724533, LL=0.31940617, Correct: 129/150, Acc: 0.86000000\n",
      "[Epoch 84] Training: MSE=0.09890605, CE=0.67596080, LL=0.31418349, Correct: 129/150, Acc: 0.86000000\n",
      "[Epoch 85] Training: MSE=0.09664843, CE=0.66447854, LL=0.30887734, Correct: 131/150, Acc: 0.87333333\n",
      "[Epoch 86] Training: MSE=0.09450248, CE=0.65351008, LL=0.30381584, Correct: 131/150, Acc: 0.87333333\n",
      "[Epoch 87] Training: MSE=0.09252367, CE=0.64333064, LL=0.29912918, Correct: 131/150, Acc: 0.87333333\n",
      "[Epoch 88] Training: MSE=0.09065901, CE=0.63368593, LL=0.29469877, Correct: 131/150, Acc: 0.87333333\n"
     ]
    },
    {
     "name": "stdout",
     "output_type": "stream",
     "text": [
      "[Epoch 89] Training: MSE=0.08882565, CE=0.62417564, LL=0.29033170, Correct: 131/150, Acc: 0.87333333\n",
      "[Epoch 90] Training: MSE=0.08696792, CE=0.61453152, LL=0.28589242, Correct: 131/150, Acc: 0.87333333\n",
      "[Epoch 91] Training: MSE=0.08507876, CE=0.60472286, LL=0.28135439, Correct: 131/150, Acc: 0.87333333\n",
      "[Epoch 92] Training: MSE=0.08320521, CE=0.59498389, LL=0.27681506, Correct: 133/150, Acc: 0.88666667\n",
      "[Epoch 93] Training: MSE=0.08142377, CE=0.58569286, LL=0.27244386, Correct: 133/150, Acc: 0.88666667\n",
      "[Epoch 94] Training: MSE=0.07979103, CE=0.57712893, LL=0.26837303, Correct: 133/150, Acc: 0.88666667\n",
      "[Epoch 95] Training: MSE=0.07831577, CE=0.56933537, LL=0.26463285, Correct: 133/150, Acc: 0.88666667\n",
      "[Epoch 96] Training: MSE=0.07697374, CE=0.56219254, LL=0.26118019, Correct: 134/150, Acc: 0.89333333\n",
      "[Epoch 97] Training: MSE=0.07573288, CE=0.55554221, LL=0.25795193, Correct: 135/150, Acc: 0.90000000\n",
      "[Epoch 98] Training: MSE=0.07456498, CE=0.54924517, LL=0.25489053, Correct: 136/150, Acc: 0.90666667\n",
      "[Epoch 99] Training: MSE=0.07344778, CE=0.54319159, LL=0.25194933, Correct: 136/150, Acc: 0.90666667\n"
     ]
    }
   ],
   "source": [
    "# Create a network from the saved network\n",
    "net1 = network.load_network(\"iris-423.dat\")\n",
    "\n",
    "# Train the network for 100 epochs, with minibatch size 5, eta=0.5 and no testset. \n",
    "results1 = net1.SGD(iris_data, 100, 5, 0.5)"
   ]
  },
  {
   "cell_type": "markdown",
   "metadata": {},
   "source": [
    "__Create another network by reloading the same saved network and train the network with the same three hyperparameter values, and stopaccuracy=0.75:__"
   ]
  },
  {
   "cell_type": "code",
   "execution_count": 4,
   "metadata": {},
   "outputs": [
    {
     "name": "stdout",
     "output_type": "stream",
     "text": [
      "[Epoch 0] Training: MSE=0.33989623, CE=1.93947802, LL=1.07270335, Correct: 50/150, Acc: 0.33333333\n",
      "[Epoch 1] Training: MSE=0.35054136, CE=1.98910892, LL=1.13654524, Correct: 50/150, Acc: 0.33333333\n",
      "[Epoch 2] Training: MSE=0.33898723, CE=1.93723493, LL=1.12030613, Correct: 50/150, Acc: 0.33333333\n",
      "[Epoch 3] Training: MSE=0.30402667, CE=1.76598458, LL=0.98309968, Correct: 51/150, Acc: 0.34000000\n",
      "[Epoch 4] Training: MSE=0.27946742, CE=1.65306466, LL=0.88038172, Correct: 100/150, Acc: 0.66666667\n",
      "[Epoch 5] Training: MSE=0.25916154, CE=1.56196374, LL=0.80792403, Correct: 100/150, Acc: 0.66666667\n",
      "[Epoch 6] Training: MSE=0.24333059, CE=1.48939578, LL=0.75466382, Correct: 100/150, Acc: 0.66666667\n",
      "[Epoch 7] Training: MSE=0.23153034, CE=1.43260666, LL=0.71520737, Correct: 100/150, Acc: 0.66666667\n",
      "[Epoch 8] Training: MSE=0.22283392, CE=1.38810432, LL=0.68570972, Correct: 100/150, Acc: 0.66666667\n",
      "[Epoch 9] Training: MSE=0.21638630, CE=1.35286947, LL=0.66332470, Correct: 100/150, Acc: 0.66666667\n",
      "[Epoch 10] Training: MSE=0.21155054, CE=1.32462457, LL=0.64601912, Correct: 100/150, Acc: 0.66666667\n",
      "[Epoch 11] Training: MSE=0.20789080, CE=1.30174644, LL=0.63237556, Correct: 100/150, Acc: 0.66666667\n",
      "[Epoch 12] Training: MSE=0.20511694, CE=1.28309614, LL=0.62141506, Correct: 100/150, Acc: 0.66666667\n",
      "[Epoch 13] Training: MSE=0.20302930, CE=1.26784584, LL=0.61246681, Correct: 100/150, Acc: 0.66666667\n",
      "[Epoch 14] Training: MSE=0.20147235, CE=1.25532061, LL=0.60507322, Correct: 100/150, Acc: 0.66666667\n",
      "[Epoch 15] Training: MSE=0.20030105, CE=1.24486556, LL=0.59890049, Correct: 100/150, Acc: 0.66666667\n",
      "[Epoch 16] Training: MSE=0.19936157, CE=1.23573475, LL=0.59362044, Correct: 100/150, Acc: 0.66666667\n",
      "[Epoch 17] Training: MSE=0.19846286, CE=1.22686360, LL=0.58868507, Correct: 100/150, Acc: 0.66666667\n",
      "[Epoch 18] Training: MSE=0.19720532, CE=1.21573647, LL=0.58262039, Correct: 100/150, Acc: 0.66666667\n",
      "[Epoch 19] Training: MSE=0.19438939, CE=1.19440802, LL=0.57068463, Correct: 100/150, Acc: 0.66666667\n",
      "[Epoch 20] Training: MSE=0.19092608, CE=1.16732717, LL=0.55286608, Correct: 100/150, Acc: 0.66666667\n",
      "[Epoch 21] Training: MSE=0.19096008, CE=1.16133018, LL=0.54312471, Correct: 100/150, Acc: 0.66666667\n",
      "[Epoch 22] Training: MSE=0.19353066, CE=1.16929236, LL=0.53927297, Correct: 100/150, Acc: 0.66666667\n",
      "[Epoch 23] Training: MSE=0.19776431, CE=1.18560542, LL=0.54036904, Correct: 100/150, Acc: 0.66666667\n",
      "[Epoch 24] Training: MSE=0.20178627, CE=1.20164379, LL=0.54486505, Correct: 100/150, Acc: 0.66666667\n",
      "[Epoch 25] Training: MSE=0.20662471, CE=1.22178025, LL=0.54960066, Correct: 100/150, Acc: 0.66666667\n",
      "[Epoch 26] Training: MSE=0.21241592, CE=1.24698192, LL=0.55558579, Correct: 100/150, Acc: 0.66666667\n",
      "[Epoch 27] Training: MSE=0.22371923, CE=1.30062268, LL=0.56667376, Correct: 100/150, Acc: 0.66666667\n",
      "[Epoch 28] Training: MSE=0.24331341, CE=1.40561068, LL=0.59374334, Correct: 100/150, Acc: 0.66666667\n",
      "[Epoch 29] Training: MSE=0.24199777, CE=1.39912289, LL=0.59138124, Correct: 100/150, Acc: 0.66666667\n",
      "[Epoch 30] Training: MSE=0.23946870, CE=1.38389155, LL=0.59045876, Correct: 100/150, Acc: 0.66666667\n",
      "[Epoch 31] Training: MSE=0.23599222, CE=1.36317079, LL=0.58667198, Correct: 100/150, Acc: 0.66666667\n",
      "[Epoch 32] Training: MSE=0.23289589, CE=1.34470190, LL=0.58358964, Correct: 100/150, Acc: 0.66666667\n",
      "[Epoch 33] Training: MSE=0.23009235, CE=1.32814460, LL=0.58092824, Correct: 100/150, Acc: 0.66666667\n",
      "[Epoch 34] Training: MSE=0.22722565, CE=1.31165773, LL=0.57818266, Correct: 100/150, Acc: 0.66666667\n",
      "[Epoch 35] Training: MSE=0.22334286, CE=1.29038726, LL=0.57330663, Correct: 100/150, Acc: 0.66666667\n",
      "[Epoch 36] Training: MSE=0.22467301, CE=1.29779632, LL=0.57115706, Correct: 100/150, Acc: 0.66666667\n",
      "[Epoch 37] Training: MSE=0.22330533, CE=1.29038782, LL=0.56749807, Correct: 100/150, Acc: 0.66666667\n",
      "[Epoch 38] Training: MSE=0.22251684, CE=1.28617554, LL=0.56502888, Correct: 100/150, Acc: 0.66666667\n",
      "[Epoch 39] Training: MSE=0.22101269, CE=1.27807819, LL=0.56246911, Correct: 100/150, Acc: 0.66666667\n",
      "[Epoch 40] Training: MSE=0.21812236, CE=1.26267441, LL=0.55868410, Correct: 100/150, Acc: 0.66666667\n",
      "[Epoch 41] Training: MSE=0.20483844, CE=1.19437942, LL=0.53995532, Correct: 102/150, Acc: 0.68000000\n",
      "[Epoch 42] Training: MSE=0.20591363, CE=1.20072089, LL=0.53740017, Correct: 102/150, Acc: 0.68000000\n",
      "[Epoch 43] Training: MSE=0.20719959, CE=1.20799052, LL=0.53623096, Correct: 102/150, Acc: 0.68000000\n",
      "[Epoch 44] Training: MSE=0.20621653, CE=1.20347843, LL=0.53255753, Correct: 102/150, Acc: 0.68000000\n",
      "[Epoch 45] Training: MSE=0.21001333, CE=1.22367814, LL=0.53696177, Correct: 102/150, Acc: 0.68000000\n",
      "[Epoch 46] Training: MSE=0.19907007, CE=1.16766667, LL=0.51856894, Correct: 102/150, Acc: 0.68000000\n",
      "[Epoch 47] Training: MSE=0.21210025, CE=1.23557129, LL=0.53930003, Correct: 102/150, Acc: 0.68000000\n",
      "[Epoch 48] Training: MSE=0.18942656, CE=1.11978422, LL=0.50134001, Correct: 103/150, Acc: 0.68666667\n",
      "[Epoch 49] Training: MSE=0.20704620, CE=1.20942254, LL=0.53171872, Correct: 102/150, Acc: 0.68000000\n",
      "[Epoch 50] Training: MSE=0.20664139, CE=1.20742322, LL=0.53013769, Correct: 102/150, Acc: 0.68000000\n",
      "[Epoch 51] Training: MSE=0.20585190, CE=1.20331541, LL=0.52882492, Correct: 102/150, Acc: 0.68000000\n",
      "[Epoch 52] Training: MSE=0.20493768, CE=1.19855574, LL=0.52753879, Correct: 102/150, Acc: 0.68000000\n",
      "[Epoch 53] Training: MSE=0.20367382, CE=1.19199722, LL=0.52569989, Correct: 102/150, Acc: 0.68000000\n",
      "[Epoch 54] Training: MSE=0.20210133, CE=1.18388439, LL=0.52332046, Correct: 102/150, Acc: 0.68000000\n",
      "[Epoch 55] Training: MSE=0.20017765, CE=1.17402428, LL=0.52031668, Correct: 103/150, Acc: 0.68666667\n",
      "[Epoch 56] Training: MSE=0.19791986, CE=1.16253436, LL=0.51673089, Correct: 103/150, Acc: 0.68666667\n",
      "[Epoch 57] Training: MSE=0.19535639, CE=1.14958619, LL=0.51262232, Correct: 103/150, Acc: 0.68666667\n",
      "[Epoch 58] Training: MSE=0.19251818, CE=1.13535662, LL=0.50803700, Correct: 104/150, Acc: 0.69333333\n",
      "[Epoch 59] Training: MSE=0.18943311, CE=1.11999754, LL=0.50299692, Correct: 105/150, Acc: 0.70000000\n",
      "[Epoch 60] Training: MSE=0.18612719, CE=1.10364146, LL=0.49751024, Correct: 107/150, Acc: 0.71333333\n",
      "[Epoch 61] Training: MSE=0.18262490, CE=1.08640345, LL=0.49158036, Correct: 108/150, Acc: 0.72000000\n",
      "[Epoch 62] Training: MSE=0.17894371, CE=1.06835637, LL=0.48520180, Correct: 109/150, Acc: 0.72666667\n",
      "[Epoch 63] Training: MSE=0.17508312, CE=1.04947938, LL=0.47834243, Correct: 111/150, Acc: 0.74000000\n",
      "[Epoch 64] Training: MSE=0.17101285, CE=1.02960346, LL=0.47092162, Correct: 114/150, Acc: 0.76000000\n"
     ]
    }
   ],
   "source": [
    "# Create a network from the saved network\n",
    "net2 = network.load_network(\"iris-423.dat\")\n",
    "\n",
    "# Train the net2 network for 100 epochs, minibatch size 5, eta=0.5, stopaccuracy=0.75, and no testset \n",
    "results2 = net2.SGD(iris_data, 100, 5, 0.5, stopaccuracy=0.75)"
   ]
  },
  {
   "cell_type": "markdown",
   "metadata": {},
   "source": [
    "### B) Check code with a different, deeper network, in particular the 4-20-7-3 network:"
   ]
  },
  {
   "cell_type": "markdown",
   "metadata": {},
   "source": [
    "__Create a new network by loading the saved 4-20-7-3 network, then train the network using the same hyperparameters (epochs=100, minibatch_size=5, eta=0.5, stopaccuracy=0.75):__"
   ]
  },
  {
   "cell_type": "code",
   "execution_count": 5,
   "metadata": {
    "scrolled": true
   },
   "outputs": [
    {
     "name": "stdout",
     "output_type": "stream",
     "text": [
      "[Epoch 0] Training: MSE=0.35101648, CE=1.98991328, LL=1.13575832, Correct: 50/150, Acc: 0.33333333\n",
      "[Epoch 1] Training: MSE=0.35685102, CE=2.01618235, LL=1.14912048, Correct: 50/150, Acc: 0.33333333\n",
      "[Epoch 2] Training: MSE=0.35639476, CE=2.01398864, LL=1.14813574, Correct: 50/150, Acc: 0.33333333\n",
      "[Epoch 3] Training: MSE=0.35437837, CE=2.00490209, LL=1.14575037, Correct: 50/150, Acc: 0.33333333\n",
      "[Epoch 4] Training: MSE=0.35223003, CE=1.99520139, LL=1.14349029, Correct: 50/150, Acc: 0.33333333\n",
      "[Epoch 5] Training: MSE=0.35031508, CE=1.98646512, LL=1.14156680, Correct: 50/150, Acc: 0.33333333\n",
      "[Epoch 6] Training: MSE=0.34871835, CE=1.97904087, LL=1.13981143, Correct: 50/150, Acc: 0.33333333\n",
      "[Epoch 7] Training: MSE=0.34745549, CE=1.97297198, LL=1.13794379, Correct: 50/150, Acc: 0.33333333\n",
      "[Epoch 8] Training: MSE=0.34653515, CE=1.96827108, LL=1.13577658, Correct: 50/150, Acc: 0.33333333\n",
      "[Epoch 9] Training: MSE=0.34597833, CE=1.96497833, LL=1.13322576, Correct: 50/150, Acc: 0.33333333\n",
      "[Epoch 10] Training: MSE=0.34585849, CE=1.96327553, LL=1.13018086, Correct: 50/150, Acc: 0.33333333\n",
      "[Epoch 11] Training: MSE=0.34641558, CE=1.96388695, LL=1.12647757, Correct: 50/150, Acc: 0.33333333\n",
      "[Epoch 12] Training: MSE=0.34829485, CE=1.96910258, LL=1.12193156, Correct: 50/150, Acc: 0.33333333\n",
      "[Epoch 13] Training: MSE=0.35188427, CE=1.98043795, LL=1.11552936, Correct: 50/150, Acc: 0.33333333\n",
      "[Epoch 14] Training: MSE=0.35544780, CE=1.99062312, LL=1.10560605, Correct: 50/150, Acc: 0.33333333\n",
      "[Epoch 15] Training: MSE=0.35629434, CE=1.98841680, LL=1.08903285, Correct: 50/150, Acc: 0.33333333\n",
      "[Epoch 16] Training: MSE=0.35167728, CE=1.96236428, LL=1.06011415, Correct: 50/150, Acc: 0.33333333\n",
      "[Epoch 17] Training: MSE=0.34189652, CE=1.91298012, LL=1.01785387, Correct: 50/150, Acc: 0.33333333\n",
      "[Epoch 18] Training: MSE=0.33022385, CE=1.85315834, LL=0.96803742, Correct: 50/150, Acc: 0.33333333\n",
      "[Epoch 19] Training: MSE=0.31898719, CE=1.79373434, LL=0.91815137, Correct: 50/150, Acc: 0.33333333\n",
      "[Epoch 20] Training: MSE=0.30857369, CE=1.73803009, LL=0.87253846, Correct: 73/150, Acc: 0.48666667\n",
      "[Epoch 21] Training: MSE=0.29883166, CE=1.68617920, LL=0.83259669, Correct: 99/150, Acc: 0.66000000\n",
      "[Epoch 22] Training: MSE=0.28983778, CE=1.63877994, LL=0.79847476, Correct: 100/150, Acc: 0.66666667\n",
      "[Epoch 23] Training: MSE=0.28179228, CE=1.59680510, LL=0.76970619, Correct: 100/150, Acc: 0.66666667\n",
      "[Epoch 24] Training: MSE=0.27482641, CE=1.56076812, LL=0.74550589, Correct: 100/150, Acc: 0.66666667\n",
      "[Epoch 25] Training: MSE=0.26892582, CE=1.53040590, LL=0.72496739, Correct: 100/150, Acc: 0.66666667\n",
      "[Epoch 26] Training: MSE=0.26394061, CE=1.50480218, LL=0.70719973, Correct: 100/150, Acc: 0.66666667\n",
      "[Epoch 27] Training: MSE=0.25964608, CE=1.48273203, LL=0.69144995, Correct: 100/150, Acc: 0.66666667\n",
      "[Epoch 28] Training: MSE=0.25579916, CE=1.46293691, LL=0.67714808, Correct: 100/150, Acc: 0.66666667\n",
      "[Epoch 29] Training: MSE=0.25217186, CE=1.44425716, LL=0.66388854, Correct: 100/150, Acc: 0.66666667\n",
      "[Epoch 30] Training: MSE=0.24857692, CE=1.42572868, LL=0.65141314, Correct: 100/150, Acc: 0.66666667\n",
      "[Epoch 31] Training: MSE=0.24488810, CE=1.40667087, LL=0.63959586, Correct: 100/150, Acc: 0.66666667\n",
      "[Epoch 32] Training: MSE=0.24104792, CE=1.38672969, LL=0.62841090, Correct: 100/150, Acc: 0.66666667\n",
      "[Epoch 33] Training: MSE=0.23706064, CE=1.36585762, LL=0.61788777, Correct: 100/150, Acc: 0.66666667\n",
      "[Epoch 34] Training: MSE=0.23297404, CE=1.34424136, LL=0.60806825, Correct: 100/150, Acc: 0.66666667\n",
      "[Epoch 35] Training: MSE=0.22885750, CE=1.32220711, LL=0.59897770, Correct: 101/150, Acc: 0.67333333\n",
      "[Epoch 36] Training: MSE=0.22478406, CE=1.30013746, LL=0.59061590, Correct: 101/150, Acc: 0.67333333\n",
      "[Epoch 37] Training: MSE=0.22082080, CE=1.27842027, LL=0.58296494, Correct: 101/150, Acc: 0.67333333\n",
      "[Epoch 38] Training: MSE=0.21702701, CE=1.25742812, LL=0.57600583, Correct: 102/150, Acc: 0.68000000\n",
      "[Epoch 39] Training: MSE=0.21345644, CE=1.23751400, LL=0.56973421, Correct: 102/150, Acc: 0.68000000\n",
      "[Epoch 40] Training: MSE=0.21016031, CE=1.21901269, LL=0.56417010, Correct: 102/150, Acc: 0.68000000\n",
      "[Epoch 41] Training: MSE=0.20719102, CE=1.20225152, LL=0.55936449, Correct: 102/150, Acc: 0.68000000\n",
      "[Epoch 42] Training: MSE=0.20460973, CE=1.18758865, LL=0.55541417, Correct: 102/150, Acc: 0.68000000\n",
      "[Epoch 43] Training: MSE=0.20250272, CE=1.17550067, LL=0.55249801, Correct: 102/150, Acc: 0.68000000\n",
      "[Epoch 44] Training: MSE=0.20100166, CE=1.16669143, LL=0.55092458, Correct: 103/150, Acc: 0.68666667\n",
      "[Epoch 45] Training: MSE=0.20025752, CE=1.16195244, LL=0.55106481, Correct: 103/150, Acc: 0.68666667\n",
      "[Epoch 46] Training: MSE=0.20020090, CE=1.16089350, LL=0.55274085, Correct: 103/150, Acc: 0.68666667\n",
      "[Epoch 47] Training: MSE=0.19991789, CE=1.15865644, LL=0.55361664, Correct: 103/150, Acc: 0.68666667\n",
      "[Epoch 48] Training: MSE=0.19756796, CE=1.14562935, LL=0.54905475, Correct: 103/150, Acc: 0.68666667\n",
      "[Epoch 49] Training: MSE=0.19416471, CE=1.12731628, LL=0.54201036, Correct: 104/150, Acc: 0.69333333\n",
      "[Epoch 50] Training: MSE=0.19185666, CE=1.11478337, LL=0.53790347, Correct: 105/150, Acc: 0.70000000\n",
      "[Epoch 51] Training: MSE=0.18914521, CE=1.10022460, LL=0.53245927, Correct: 105/150, Acc: 0.70000000\n",
      "[Epoch 52] Training: MSE=0.18658357, CE=1.08644444, LL=0.52728757, Correct: 105/150, Acc: 0.70000000\n",
      "[Epoch 53] Training: MSE=0.18371481, CE=1.07113656, LL=0.52112249, Correct: 105/150, Acc: 0.70000000\n",
      "[Epoch 54] Training: MSE=0.18083449, CE=1.05581230, LL=0.51476979, Correct: 105/150, Acc: 0.70000000\n",
      "[Epoch 55] Training: MSE=0.17780124, CE=1.03978392, LL=0.50782425, Correct: 105/150, Acc: 0.70000000\n",
      "[Epoch 56] Training: MSE=0.17487039, CE=1.02434706, LL=0.50099791, Correct: 107/150, Acc: 0.71333333\n",
      "[Epoch 57] Training: MSE=0.17197155, CE=1.00920274, LL=0.49413599, Correct: 108/150, Acc: 0.72000000\n",
      "[Epoch 58] Training: MSE=0.16919844, CE=0.99485113, LL=0.48755799, Correct: 109/150, Acc: 0.72666667\n",
      "[Epoch 59] Training: MSE=0.16638703, CE=0.98050039, LL=0.48086780, Correct: 109/150, Acc: 0.72666667\n",
      "[Epoch 60] Training: MSE=0.16355655, CE=0.96620930, LL=0.47414144, Correct: 109/150, Acc: 0.72666667\n",
      "[Epoch 61] Training: MSE=0.16060140, CE=0.95142646, LL=0.46709139, Correct: 112/150, Acc: 0.74666667\n",
      "[Epoch 62] Training: MSE=0.15757755, CE=0.93638462, LL=0.45986411, Correct: 113/150, Acc: 0.75333333\n"
     ]
    }
   ],
   "source": [
    "# Create a network from the saved network 4-20-7-3:\n",
    "net3 = network.load_network(\"iris4-20-7-3.dat\")\n",
    "\n",
    "# Train the net3 network for 100 epochs, minibatch size 5, eta=0.5, stopaccuracy=0.75, and no testset\n",
    "results3 = net3.SGD(iris_data, 100, 5, 0.5, stopaccuracy=0.75)"
   ]
  },
  {
   "cell_type": "markdown",
   "metadata": {},
   "source": [
    "### C) Visualize the network learning by creating plots:"
   ]
  },
  {
   "cell_type": "markdown",
   "metadata": {},
   "source": [
    "   __A. First split the dataset randomly into 70% training and 30% test:__"
   ]
  },
  {
   "cell_type": "code",
   "execution_count": 6,
   "metadata": {},
   "outputs": [],
   "source": [
    "iris_data\n",
    "random.shuffle(iris_data)\n",
    "training = iris_data[0:105] # first 70% of the iris_data \n",
    "test = iris_data[-45:]      # last 30% of the iris_data"
   ]
  },
  {
   "cell_type": "markdown",
   "metadata": {},
   "source": [
    "__B. Create a new network (which has randomly initialized weights) of the size [4,20,3]:__"
   ]
  },
  {
   "cell_type": "code",
   "execution_count": 7,
   "metadata": {},
   "outputs": [],
   "source": [
    "# Create a new network net4\n",
    "net4 = network.Network([4,20,3])"
   ]
  },
  {
   "cell_type": "markdown",
   "metadata": {},
   "source": [
    "__C. Train the network for 50 epochs with eta = 0.1 and the minibatch size = 5 (default for stopaccuracy), and save results:__"
   ]
  },
  {
   "cell_type": "code",
   "execution_count": 8,
   "metadata": {},
   "outputs": [
    {
     "name": "stdout",
     "output_type": "stream",
     "text": [
      "[Epoch 0] Training: MSE=0.26378073, CE=1.56671088, LL=0.90558042, Correct: 70/105, Acc: 0.66666667\n",
      "              Test: MSE=0.26474819, CE=1.56017390, LL=0.92619735, Correct: 30/45, Acc: 0.66666667\n",
      "[Epoch 1] Training: MSE=0.23537676, CE=1.43651548, LL=0.72535078, Correct: 70/105, Acc: 0.66666667\n",
      "              Test: MSE=0.22812238, CE=1.39411839, LL=0.72342742, Correct: 30/45, Acc: 0.66666667\n",
      "[Epoch 2] Training: MSE=0.22109006, CE=1.36809939, LL=0.65537006, Correct: 69/105, Acc: 0.65714286\n",
      "              Test: MSE=0.21127103, CE=1.31468094, LL=0.64640545, Correct: 30/45, Acc: 0.66666667\n",
      "[Epoch 3] Training: MSE=0.21155533, CE=1.32264570, LL=0.62057082, Correct: 69/105, Acc: 0.65714286\n",
      "              Test: MSE=0.20081718, CE=1.26557139, LL=0.60817589, Correct: 30/45, Acc: 0.66666667\n",
      "[Epoch 4] Training: MSE=0.20429461, CE=1.28828871, LL=0.60106972, Correct: 75/105, Acc: 0.71428571\n",
      "              Test: MSE=0.19328951, CE=1.23046087, LL=0.58649570, Correct: 32/45, Acc: 0.71111111\n",
      "[Epoch 5] Training: MSE=0.19838882, CE=1.26044774, LL=0.58902124, Correct: 79/105, Acc: 0.75238095\n",
      "              Test: MSE=0.18741436, CE=1.20315780, LL=0.57294163, Correct: 35/45, Acc: 0.77777778\n",
      "[Epoch 6] Training: MSE=0.19344799, CE=1.23714168, LL=0.58049259, Correct: 80/105, Acc: 0.76190476\n",
      "              Test: MSE=0.18262133, CE=1.18086342, LL=0.56334404, Correct: 36/45, Acc: 0.80000000\n",
      "[Epoch 7] Training: MSE=0.18922828, CE=1.21715608, LL=0.57355390, Correct: 86/105, Acc: 0.81904762\n",
      "              Test: MSE=0.17858087, CE=1.16197071, LL=0.55563434, Correct: 37/45, Acc: 0.82222222\n",
      "[Epoch 8] Training: MSE=0.18552794, CE=1.19955185, LL=0.56738127, Correct: 86/105, Acc: 0.81904762\n",
      "              Test: MSE=0.17506318, CE=1.14540848, LL=0.54890230, Correct: 37/45, Acc: 0.82222222\n",
      "[Epoch 9] Training: MSE=0.18216985, CE=1.18357216, LL=0.56165936, Correct: 88/105, Acc: 0.83809524\n",
      "              Test: MSE=0.17189221, CE=1.13042289, LL=0.54278628, Correct: 38/45, Acc: 0.84444444\n",
      "[Epoch 10] Training: MSE=0.17900075, CE=1.16861513, LL=0.55624462, Correct: 89/105, Acc: 0.84761905\n",
      "              Test: MSE=0.16892641, CE=1.11646785, LL=0.53712546, Correct: 39/45, Acc: 0.86666667\n",
      "[Epoch 11] Training: MSE=0.17590313, CE=1.15423690, LL=0.55100126, Correct: 90/105, Acc: 0.85714286\n",
      "              Test: MSE=0.16605805, CE=1.10315351, LL=0.53178072, Correct: 40/45, Acc: 0.88888889\n",
      "[Epoch 12] Training: MSE=0.17282870, CE=1.14020858, LL=0.54571023, Correct: 92/105, Acc: 0.87619048\n",
      "              Test: MSE=0.16323450, CE=1.09025006, LL=0.52651892, Correct: 40/45, Acc: 0.88888889\n",
      "[Epoch 13] Training: MSE=0.16981858, CE=1.12653159, LL=0.54008038, Correct: 93/105, Acc: 0.88571429\n",
      "              Test: MSE=0.16047245, CE=1.07767165, LL=0.52099903, Correct: 40/45, Acc: 0.88888889\n",
      "[Epoch 14] Training: MSE=0.16694742, CE=1.11327469, LL=0.53394847, Correct: 94/105, Acc: 0.89523810\n",
      "              Test: MSE=0.15781754, CE=1.06536893, LL=0.51498731, Correct: 40/45, Acc: 0.88888889\n",
      "[Epoch 15] Training: MSE=0.16424710, CE=1.10041895, LL=0.52744391, Correct: 95/105, Acc: 0.90476190\n",
      "              Test: MSE=0.15529200, CE=1.05327511, LL=0.50857120, Correct: 40/45, Acc: 0.88888889\n",
      "[Epoch 16] Training: MSE=0.16170376, CE=1.08789956, LL=0.52085675, Correct: 96/105, Acc: 0.91428571\n",
      "              Test: MSE=0.15289280, CE=1.04136343, LL=0.50204151, Correct: 40/45, Acc: 0.88888889\n",
      "[Epoch 17] Training: MSE=0.15928994, CE=1.07567798, LL=0.51442375, Correct: 97/105, Acc: 0.92380952\n",
      "              Test: MSE=0.15060879, CE=1.02966248, LL=0.49565408, Correct: 41/45, Acc: 0.91111111\n",
      "[Epoch 18] Training: MSE=0.15698146, CE=1.06374523, LL=0.50825789, Correct: 97/105, Acc: 0.92380952\n",
      "              Test: MSE=0.14842780, CE=1.01821697, LL=0.48953874, Correct: 41/45, Acc: 0.91111111\n",
      "[Epoch 19] Training: MSE=0.15476015, CE=1.05210169, LL=0.50238071, Correct: 98/105, Acc: 0.93333333\n",
      "              Test: MSE=0.14633792, CE=1.00705884, LL=0.48372622, Correct: 41/45, Acc: 0.91111111\n",
      "[Epoch 20] Training: MSE=0.15261261, CE=1.04074523, LL=0.49676964, Correct: 98/105, Acc: 0.93333333\n",
      "              Test: MSE=0.14432814, CE=0.99620094, LL=0.47819708, Correct: 41/45, Acc: 0.91111111\n",
      "[Epoch 21] Training: MSE=0.15052875, CE=1.02966831, LL=0.49138835, Correct: 98/105, Acc: 0.93333333\n",
      "              Test: MSE=0.14238868, CE=0.98564130, LL=0.47291489, Correct: 41/45, Acc: 0.91111111\n",
      "[Epoch 22] Training: MSE=0.14850072, CE=1.01885912, LL=0.48620095, Correct: 99/105, Acc: 0.94285714\n",
      "              Test: MSE=0.14051118, CE=0.97536913, LL=0.46784222, Correct: 41/45, Acc: 0.91111111\n",
      "[Epoch 23] Training: MSE=0.14652228, CE=1.00830354, LL=0.48117683, Correct: 99/105, Acc: 0.94285714\n",
      "              Test: MSE=0.13868859, CE=0.96536933, LL=0.46294649, Correct: 41/45, Acc: 0.91111111\n",
      "[Epoch 24] Training: MSE=0.14458838, CE=0.99798662, LL=0.47629141, Correct: 99/105, Acc: 0.94285714\n",
      "              Test: MSE=0.13691503, CE=0.95562543, LL=0.45820126, Correct: 41/45, Acc: 0.91111111\n",
      "[Epoch 25] Training: MSE=0.14269485, CE=0.98789366, LL=0.47152542, Correct: 99/105, Acc: 0.94285714\n",
      "              Test: MSE=0.13518563, CE=0.94612111, LL=0.45358561, Correct: 41/45, Acc: 0.91111111\n",
      "[Epoch 26] Training: MSE=0.14083822, CE=0.97801071, LL=0.46686384, Correct: 99/105, Acc: 0.94285714\n",
      "              Test: MSE=0.13349632, CE=0.93684097, LL=0.44908316, Correct: 41/45, Acc: 0.91111111\n",
      "[Epoch 27] Training: MSE=0.13901558, CE=0.96832485, LL=0.46229494, Correct: 99/105, Acc: 0.94285714\n",
      "              Test: MSE=0.13184367, CE=0.92777089, LL=0.44468104, Correct: 41/45, Acc: 0.91111111\n",
      "[Epoch 28] Training: MSE=0.13722445, CE=0.95882427, LL=0.45780943, Correct: 99/105, Acc: 0.94285714\n",
      "              Test: MSE=0.13022482, CE=0.91889802, LL=0.44036908, Correct: 42/45, Acc: 0.93333333\n",
      "[Epoch 29] Training: MSE=0.13546274, CE=0.94949827, LL=0.45339991, Correct: 99/105, Acc: 0.94285714\n",
      "              Test: MSE=0.12863736, CE=0.91021080, LL=0.43613916, Correct: 42/45, Acc: 0.93333333\n",
      "[Epoch 30] Training: MSE=0.13372869, CE=0.94033718, LL=0.44906038, Correct: 100/105, Acc: 0.95238095\n",
      "              Test: MSE=0.12707924, CE=0.90169881, LL=0.43198470, Correct: 42/45, Acc: 0.93333333\n",
      "[Epoch 31] Training: MSE=0.13202076, CE=0.93133229, LL=0.44478595, Correct: 100/105, Acc: 0.95238095\n",
      "              Test: MSE=0.12554871, CE=0.89335267, LL=0.42790033, Correct: 42/45, Acc: 0.93333333\n",
      "[Epoch 32] Training: MSE=0.13033769, CE=0.92247577, LL=0.44057254, Correct: 100/105, Acc: 0.95238095\n",
      "              Test: MSE=0.12404429, CE=0.88516392, LL=0.42388161, Correct: 42/45, Acc: 0.93333333\n",
      "[Epoch 33] Training: MSE=0.12867836, CE=0.91376056, LL=0.43641674, Correct: 100/105, Acc: 0.95238095\n",
      "              Test: MSE=0.12256471, CE=0.87712494, LL=0.41992482, Correct: 42/45, Acc: 0.93333333\n",
      "[Epoch 34] Training: MSE=0.12704185, CE=0.90518034, LL=0.43231569, Correct: 100/105, Acc: 0.95238095\n",
      "              Test: MSE=0.12110889, CE=0.86922882, LL=0.41602683, Correct: 42/45, Acc: 0.93333333\n",
      "[Epoch 35] Training: MSE=0.12542738, CE=0.89672939, LL=0.42826693, Correct: 100/105, Acc: 0.95238095\n",
      "              Test: MSE=0.11967588, CE=0.86146931, LL=0.41218498, Correct: 42/45, Acc: 0.93333333\n",
      "[Epoch 36] Training: MSE=0.12383427, CE=0.88840259, LL=0.42426835, Correct: 100/105, Acc: 0.95238095\n",
      "              Test: MSE=0.11826491, CE=0.85384074, LL=0.40839698, Correct: 42/45, Acc: 0.93333333\n",
      "[Epoch 37] Training: MSE=0.12226198, CE=0.88019532, LL=0.42031815, Correct: 100/105, Acc: 0.95238095\n",
      "              Test: MSE=0.11687529, CE=0.84633793, LL=0.40466088, Correct: 42/45, Acc: 0.93333333\n",
      "[Epoch 38] Training: MSE=0.12071003, CE=0.87210342, LL=0.41641476, Correct: 100/105, Acc: 0.95238095\n",
      "              Test: MSE=0.11550642, CE=0.83895621, LL=0.40097496, Correct: 42/45, Acc: 0.93333333\n",
      "[Epoch 39] Training: MSE=0.11917803, CE=0.86412316, LL=0.41255683, Correct: 101/105, Acc: 0.96190476\n",
      "              Test: MSE=0.11415782, CE=0.83169129, LL=0.39733776, Correct: 42/45, Acc: 0.93333333\n",
      "[Epoch 40] Training: MSE=0.11766567, CE=0.85625116, LL=0.40874319, Correct: 101/105, Acc: 0.96190476\n",
      "              Test: MSE=0.11282904, CE=0.82453927, LL=0.39374800, Correct: 42/45, Acc: 0.93333333\n",
      "[Epoch 41] Training: MSE=0.11617267, CE=0.84848438, LL=0.40497283, Correct: 101/105, Acc: 0.96190476\n",
      "              Test: MSE=0.11151974, CE=0.81749658, LL=0.39020456, Correct: 42/45, Acc: 0.93333333\n"
     ]
    },
    {
     "name": "stdout",
     "output_type": "stream",
     "text": [
      "[Epoch 42] Training: MSE=0.11469883, CE=0.84082008, LL=0.40124487, Correct: 101/105, Acc: 0.96190476\n",
      "              Test: MSE=0.11022958, CE=0.81055998, LL=0.38670647, Correct: 42/45, Acc: 0.93333333\n",
      "[Epoch 43] Training: MSE=0.11324396, CE=0.83325578, LL=0.39755856, Correct: 101/105, Acc: 0.96190476\n",
      "              Test: MSE=0.10895831, CE=0.80372649, LL=0.38325288, Correct: 42/45, Acc: 0.93333333\n",
      "[Epoch 44] Training: MSE=0.11180792, CE=0.82578924, LL=0.39391324, Correct: 101/105, Acc: 0.96190476\n",
      "              Test: MSE=0.10770568, CE=0.79699339, LL=0.37984305, Correct: 42/45, Acc: 0.93333333\n",
      "[Epoch 45] Training: MSE=0.11039060, CE=0.81841844, LL=0.39030837, Correct: 101/105, Acc: 0.96190476\n",
      "              Test: MSE=0.10647151, CE=0.79035816, LL=0.37647634, Correct: 42/45, Acc: 0.93333333\n",
      "[Epoch 46] Training: MSE=0.10899189, CE=0.81114152, LL=0.38674346, Correct: 101/105, Acc: 0.96190476\n",
      "              Test: MSE=0.10525561, CE=0.78381852, LL=0.37315218, Correct: 42/45, Acc: 0.93333333\n",
      "[Epoch 47] Training: MSE=0.10761171, CE=0.80395680, LL=0.38321811, Correct: 101/105, Acc: 0.96190476\n",
      "              Test: MSE=0.10405783, CE=0.77737235, LL=0.36987007, Correct: 42/45, Acc: 0.93333333\n",
      "[Epoch 48] Training: MSE=0.10625001, CE=0.79686275, LL=0.37973196, Correct: 102/105, Acc: 0.97142857\n",
      "              Test: MSE=0.10287804, CE=0.77101771, LL=0.36662960, Correct: 42/45, Acc: 0.93333333\n",
      "[Epoch 49] Training: MSE=0.10490671, CE=0.78985796, LL=0.37628474, Correct: 102/105, Acc: 0.97142857\n",
      "              Test: MSE=0.10171612, CE=0.76475279, LL=0.36343037, Correct: 42/45, Acc: 0.93333333\n"
     ]
    }
   ],
   "source": [
    "results4 = net4.SGD(training, 50, 5, 0.1, test)"
   ]
  },
  {
   "cell_type": "markdown",
   "metadata": {},
   "source": [
    "__D. Use results to plot two types of graphs:__"
   ]
  },
  {
   "cell_type": "markdown",
   "metadata": {},
   "source": [
    "__D-A. Plot that compares the error curves of the three cost functions for the training set:__ "
   ]
  },
  {
   "cell_type": "code",
   "execution_count": 9,
   "metadata": {},
   "outputs": [
    {
     "data": {
      "image/png": "[encoded data removed]",
      "text/plain": [
       "<Figure size 432x288 with 1 Axes>"
      ]
     },
     "metadata": {
      "needs_background": "light"
     },
     "output_type": "display_data"
    }
   ],
   "source": [
    "MSE = []\n",
    "CE = []\n",
    "LL = []\n",
    "\n",
    "for res in results4[0]:\n",
    "    MSE.append(res[2])\n",
    "    CE.append(res[3])\n",
    "    LL.append(res[4])\n",
    "    \n",
    "plt.plot(MSE, c='red', label='MSE')\n",
    "plt.plot(CE, c='green', label='CrossEntropy')\n",
    "plt.plot(LL, c='blue', label='LogLikelihood')\n",
    "plt.legend()\n",
    "plt.ylabel('Error')\n",
    "plt.xlabel('Epoch')\n",
    "plt.title('Error by Cost Function (training)')\n",
    "\n",
    "plt.show()"
   ]
  },
  {
   "cell_type": "markdown",
   "metadata": {},
   "source": [
    "__D-B. Three plots, one for each cost function, that shows the error for training vs. test:__"
   ]
  },
  {
   "cell_type": "code",
   "execution_count": 10,
   "metadata": {},
   "outputs": [],
   "source": [
    "test_MSE = []\n",
    "test_CE = []\n",
    "test_LL = []\n",
    "\n",
    "for res in results4[1]:\n",
    "    test_MSE.append(res[2])\n",
    "    test_CE.append(res[3])\n",
    "    test_LL.append(res[4])"
   ]
  },
  {
   "cell_type": "code",
   "execution_count": 11,
   "metadata": {},
   "outputs": [
    {
     "data": {
      "image/png": "[encoded data removed]",
      "text/plain": [
       "<Figure size 432x288 with 1 Axes>"
      ]
     },
     "metadata": {
      "needs_background": "light"
     },
     "output_type": "display_data"
    }
   ],
   "source": [
    "plt.plot(MSE, c='red', label='Train')\n",
    "plt.plot(test_MSE, c='gold', label='Test')\n",
    "plt.legend()\n",
    "plt.ylabel('Error')\n",
    "plt.xlabel('Epoch')\n",
    "plt.title('Train vs Test: MSE')\n",
    "\n",
    "plt.show()"
   ]
  },
  {
   "cell_type": "code",
   "execution_count": 12,
   "metadata": {},
   "outputs": [
    {
     "data": {
      "image/png": "[encoded data removed]",
      "text/plain": [
       "<Figure size 432x288 with 1 Axes>"
      ]
     },
     "metadata": {
      "needs_background": "light"
     },
     "output_type": "display_data"
    }
   ],
   "source": [
    "plt.plot(CE, c='green', label='Train')\n",
    "plt.plot(test_CE, c='gold', label='Test')\n",
    "plt.legend()\n",
    "plt.ylabel('Error')\n",
    "plt.xlabel('Epoch')\n",
    "plt.title('Train vs Test: CrossEntropy')\n",
    "\n",
    "plt.show()"
   ]
  },
  {
   "cell_type": "code",
   "execution_count": 13,
   "metadata": {},
   "outputs": [
    {
     "data": {
      "image/png": "[encoded data removed]",
      "text/plain": [
       "<Figure size 432x288 with 1 Axes>"
      ]
     },
     "metadata": {
      "needs_background": "light"
     },
     "output_type": "display_data"
    }
   ],
   "source": [
    "plt.plot(LL, c='blue', label='Train')\n",
    "plt.plot(test_LL, c='gold', label='Test')\n",
    "plt.legend()\n",
    "plt.ylabel('Error')\n",
    "plt.xlabel('Epoch')\n",
    "plt.title('Train vs Test: LogLikelihood')\n",
    "\n",
    "plt.show()"
   ]
  }
 ],
 "metadata": {
  "kernelspec": {
   "display_name": "Python 3",
   "language": "python",
   "name": "python3"
  },
  "language_info": {
   "codemirror_mode": {
    "name": "ipython",
    "version": 3
   },
   "file_extension": ".py",
   "mimetype": "text/x-python",
   "name": "python",
   "nbconvert_exporter": "python",
   "pygments_lexer": "ipython3",
   "version": "3.8.5"
  }
 },
 "nbformat": 4,
 "nbformat_minor": 4
}
